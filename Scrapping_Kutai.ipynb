{
 "cells": [
  {
   "cell_type": "code",
   "execution_count": 28,
   "metadata": {},
   "outputs": [],
   "source": [
    "from bs4 import BeautifulSoup\n",
    "import pandas as pd\n",
    "from datetime import datetime as dt\n",
    "from selenium import webdriver\n",
    "import time\n",
    "from webdriver_manager.chrome import ChromeDriverManager\n",
    "import re"
   ]
  },
  {
   "cell_type": "code",
   "execution_count": 59,
   "metadata": {},
   "outputs": [
    {
     "name": "stderr",
     "output_type": "stream",
     "text": [
      "\n",
      "\n",
      "====== WebDriver manager ======\n",
      "Driver [/Users/gitasafitri/.wdm/drivers/chromedriver/mac64/95.0.4638.69/chromedriver] found in cache\n"
     ]
    }
   ],
   "source": [
    "from webdriver_manager.chrome import ChromeDriverManager\n",
    "option = webdriver.ChromeOptions()\n",
    "option.add_argument('--headless')\n",
    "option.add_argument('--no-sandbox')\n",
    "option.add_argument('--disable-dev-shm-usage')\n",
    "driver = webdriver.Chrome(ChromeDriverManager(version='95.0.4638.69').install(), options = option)\n",
    "source = 'https://public.tableau.com/views/newcovid_15955025099650/BERANDA?:embed=y&amp;amp;:showVizHome=no&amp;amp;:host_url=https%3A%2F%2Fpublic.tableau.com%2F&amp;amp;:embed_code_version=3&amp;amp;:tabs=no&amp;amp;:toolbar=yes&amp;amp;:animate_transition=yes&amp;amp;:display_static_image=no&amp;amp;:display_spinner=no&amp;amp;:display_overlay=yes&amp;amp;:display_count=yes&amp;amp;:language=en&amp;amp;:loadOrderID=0'"
   ]
  },
  {
   "cell_type": "code",
   "execution_count": 60,
   "metadata": {},
   "outputs": [],
   "source": [
    "driver.get(source)\n",
    "content = driver.page_source"
   ]
  },
  {
   "cell_type": "code",
   "execution_count": 62,
   "metadata": {},
   "outputs": [
    {
     "name": "stdout",
     "output_type": "stream",
     "text": [
      "   SUM(KONFIRMASI)-alias\n",
      "0                  18050\n",
      "   SUM(KONTAK ERAT)-alias\n",
      "0                    8199\n",
      "   SUM(MENINGGAL)-alias\n",
      "0                   443\n",
      "   SUM(PROBABLE)-alias\n",
      "0                   48\n",
      "   SUM(SEMBUH)-alias\n",
      "0              17599\n",
      "   SUM(SUSPEK)-alias\n",
      "0               4055\n"
     ]
    }
   ],
   "source": [
    "from tableauscraper import TableauScraper as TS\n",
    "\n",
    "url = \"https://public.tableau.com/views/newcovid_15955025099650/BERANDA?:embed=y&amp;amp;:showVizHome=no&amp;amp;:host_url=https%3A%2F%2Fpublic.tableau.com%2F&amp;amp;:embed_code_version=3&amp;amp;:tabs=no&amp;amp;:toolbar=yes&amp;amp;:animate_transition=yes&amp;amp;:display_static_image=no&amp;amp;:display_spinner=no&amp;amp;:display_overlay=yes&amp;amp;:display_count=yes&amp;amp;:language=en&amp;amp;:loadOrderID=0\"\n",
    "data = []\n",
    "ts = TS()\n",
    "ts.loads(url)\n",
    "workbook = ts.getWorkbook()\n",
    "\n",
    "for t in workbook.worksheets:\n",
    "    #show worksheet name\n",
    "    #print(f\"WORKSHEET NAME : {t.name}\")\n",
    "    #show dataframe for this worksheet\n",
    "    print(t.data)\n",
    "    data.append(t.data)"
   ]
  },
  {
   "cell_type": "code",
   "execution_count": 63,
   "metadata": {},
   "outputs": [],
   "source": [
    "data_=[]\n",
    "for i in range(len(data)):\n",
    "    a = (re.findall(r'\\d+', str(data[i])))\n",
    "    data_.append(a[1])"
   ]
  },
  {
   "cell_type": "code",
   "execution_count": 64,
   "metadata": {},
   "outputs": [
    {
     "data": {
      "text/plain": [
       "['18050', '8199', '443', '48', '17599', '4055']"
      ]
     },
     "execution_count": 64,
     "metadata": {},
     "output_type": "execute_result"
    }
   ],
   "source": [
    "data_"
   ]
  },
  {
   "cell_type": "code",
   "execution_count": 86,
   "metadata": {},
   "outputs": [
    {
     "data": {
      "text/plain": [
       "['Tanggal:', '2', 'Desember', '2021,', '16:00', 'WITA']"
      ]
     },
     "execution_count": 86,
     "metadata": {},
     "output_type": "execute_result"
    }
   ],
   "source": [
    "content = driver.page_source\n",
    "soup = BeautifulSoup(content,'lxml')\n",
    "div = soup.findAll(\"div\",class_='tab-textRegion-content')[8]\n",
    "tgl=div.get_text()\n",
    "tgl_= tgl.split(\" \")\n",
    "thn = tgl_[3].split(\",\")\n",
    "tgl_"
   ]
  },
  {
   "cell_type": "code",
   "execution_count": 88,
   "metadata": {},
   "outputs": [],
   "source": [
    "bulan = ['januari', 'februari', 'maret', 'april', 'mei', 'juni','juli','agustus', 'september', 'oktober','november','desember']\n",
    "bln = bulan.index(tgl_[2].lower())+1\n",
    "date_ = thn[0]+'-'+str(bln)+'-'+tgl_[1]\n",
    "date_update=dt.strptime(date_,'%Y-%m-%d').strftime('%Y-%m-%d')\n",
    "\n",
    "now = dt.now().strftime('%Y-%m-%d')"
   ]
  },
  {
   "cell_type": "code",
   "execution_count": 89,
   "metadata": {},
   "outputs": [],
   "source": [
    "scrape_date = []\n",
    "date_update2 = []\n",
    "provinsi = []\n",
    "kabkot = []\n",
    "kecamatan = []\n",
    "kelurahan= []\n",
    "total_odp = []\n",
    "total_pdp = []\n",
    "total_positif = []\n",
    "positif_sembuh = []\n",
    "positif_dirawat = []\n",
    "positif_isolasi = []\n",
    "positif_meninggal = []\n",
    "types = []\n",
    "source_link = []\n",
    "user_pic = []\n",
    "\n",
    "total_pdp.append((int(data_[3])+(int(data_[5]))))\n",
    "total_odp.append(data_[1])\n",
    "positif_dirawat.append(0)\n",
    "total_positif.append(data_[0])\n",
    "positif_meninggal.append(data_[2])\n",
    "positif_sembuh.append(data_[5])\n",
    "positif_isolasi.append(0)\n",
    "scrape_date.append(now)\n",
    "date_update2.append(date_update)\n",
    "provinsi.append('Kalimantan Timur')\n",
    "kabkot.append('Kutai Timur')\n",
    "kecamatan.append('')\n",
    "kelurahan.append('')\n",
    "types.append('Kabkot')\n",
    "source_link.append(url)\n",
    "user_pic.append('Tubagus Ibrohim')"
   ]
  },
  {
   "cell_type": "code",
   "execution_count": 90,
   "metadata": {},
   "outputs": [
    {
     "data": {
      "text/html": [
       "<div>\n",
       "<style scoped>\n",
       "    .dataframe tbody tr th:only-of-type {\n",
       "        vertical-align: middle;\n",
       "    }\n",
       "\n",
       "    .dataframe tbody tr th {\n",
       "        vertical-align: top;\n",
       "    }\n",
       "\n",
       "    .dataframe thead th {\n",
       "        text-align: right;\n",
       "    }\n",
       "</style>\n",
       "<table border=\"1\" class=\"dataframe\">\n",
       "  <thead>\n",
       "    <tr style=\"text-align: right;\">\n",
       "      <th></th>\n",
       "      <th>scrape_date</th>\n",
       "      <th>date_update</th>\n",
       "      <th>provinsi</th>\n",
       "      <th>kabkot</th>\n",
       "      <th>kecamatan</th>\n",
       "      <th>kelurahan</th>\n",
       "      <th>total_odp</th>\n",
       "      <th>total_pdp</th>\n",
       "      <th>total_positif</th>\n",
       "      <th>positif_sembuh</th>\n",
       "      <th>positif_dirawat</th>\n",
       "      <th>positif_isolasi</th>\n",
       "      <th>positif_meninggal</th>\n",
       "      <th>types</th>\n",
       "      <th>source_link</th>\n",
       "      <th>user_pic</th>\n",
       "    </tr>\n",
       "  </thead>\n",
       "  <tbody>\n",
       "    <tr>\n",
       "      <th>0</th>\n",
       "      <td>2021-12-13</td>\n",
       "      <td>2021-12-02</td>\n",
       "      <td>Kalimantan Timur</td>\n",
       "      <td>Kutai Timur</td>\n",
       "      <td></td>\n",
       "      <td></td>\n",
       "      <td>8199</td>\n",
       "      <td>4103</td>\n",
       "      <td>18050</td>\n",
       "      <td>4055</td>\n",
       "      <td>0</td>\n",
       "      <td>0</td>\n",
       "      <td>443</td>\n",
       "      <td>Kabkot</td>\n",
       "      <td>https://public.tableau.com/views/newcovid_1595...</td>\n",
       "      <td>Tubagus Ibrohim</td>\n",
       "    </tr>\n",
       "  </tbody>\n",
       "</table>\n",
       "</div>"
      ],
      "text/plain": [
       "  scrape_date date_update          provinsi       kabkot kecamatan kelurahan  \\\n",
       "0  2021-12-13  2021-12-02  Kalimantan Timur  Kutai Timur                       \n",
       "\n",
       "  total_odp  total_pdp total_positif positif_sembuh  positif_dirawat  \\\n",
       "0      8199       4103         18050           4055                0   \n",
       "\n",
       "   positif_isolasi positif_meninggal   types  \\\n",
       "0                0               443  Kabkot   \n",
       "\n",
       "                                         source_link         user_pic  \n",
       "0  https://public.tableau.com/views/newcovid_1595...  Tubagus Ibrohim  "
      ]
     },
     "execution_count": 90,
     "metadata": {},
     "output_type": "execute_result"
    }
   ],
   "source": [
    "#create table\n",
    "df = pd.DataFrame()\n",
    "df['scrape_date'] = scrape_date\n",
    "df['date_update'] = date_update2\n",
    "df['provinsi']= provinsi\n",
    "df['kabkot'] = kabkot\n",
    "df['kecamatan'] = kecamatan\n",
    "df['kelurahan'] = kelurahan\n",
    "df['total_odp'] = total_odp\n",
    "df['total_pdp'] = total_pdp\n",
    "df['total_positif'] = total_positif\n",
    "df['positif_sembuh'] = positif_sembuh\n",
    "df['positif_dirawat'] = positif_dirawat\n",
    "df['positif_isolasi'] = positif_isolasi\n",
    "df['positif_meninggal'] = positif_meninggal\n",
    "df['types'] = types\n",
    "df['source_link'] = source_link\n",
    "df['user_pic'] = user_pic\n",
    " #Output\n",
    "df"
   ]
  }
 ],
 "metadata": {
  "kernelspec": {
   "display_name": "Python 3",
   "language": "python",
   "name": "python3"
  },
  "language_info": {
   "codemirror_mode": {
    "name": "ipython",
    "version": 3
   },
   "file_extension": ".py",
   "mimetype": "text/x-python",
   "name": "python",
   "nbconvert_exporter": "python",
   "pygments_lexer": "ipython3",
   "version": "3.8.3"
  }
 },
 "nbformat": 4,
 "nbformat_minor": 4
}
