{
 "cells": [
  {
   "cell_type": "code",
   "execution_count": 1,
   "metadata": {},
   "outputs": [
    {
     "name": "stderr",
     "output_type": "stream",
     "text": [
      "\n",
      "\n",
      "====== WebDriver manager ======\n",
      "Driver [/Users/gitasafitri/.wdm/drivers/chromedriver/mac64/95.0.4638.69/chromedriver] found in cache\n"
     ]
    }
   ],
   "source": [
    "from selenium import webdriver\n",
    "from bs4 import BeautifulSoup\n",
    "import pandas as pd\n",
    "from datetime import datetime as dt\n",
    "import time\n",
    "import json\n",
    "from pandas.io.json import json_normalize\n",
    "import numpy as np\n",
    "from webdriver_manager.chrome import ChromeDriverManager\n",
    "option = webdriver.ChromeOptions()\n",
    "option.add_argument('--headless')\n",
    "option.add_argument('--no-sandbox')\n",
    "option.add_argument('--disable-dev-shm-usage')\n",
    "option.add_argument(\"user-agent=Mozilla/5.0 (Windows Phone 10.0; Android 4.2.1; Microsoft; Lumia 640 XL LTE) AppleWebKit/537.36 (KHTML, like Gecko) Chrome/42.0.2311.135 Mobile Safari/537.36 Edge/12.10166\")\n",
    "driver = webdriver.Chrome(ChromeDriverManager(version='95.0.4638.69').install(), options = option)\n",
    "date_now = dt.now().strftime('%Y-%m-%d')\n",
    "url='https://geoportal.lampungprov.go.id/gis/apps/webappviewer/index.html?id=1264d172d3a34d59a99210733672695e'\n",
    "link ='https://geoportal.lampungprov.go.id/gis/rest/services/Dinas_Kesehatan/Covid/FeatureServer/0/6/query?where=objectid+%3D+objectid&outfields=*&f=json'\n",
    "prov_link = 'https://geoportal.lampungprov.go.id/gis/home/webmap/viewer.html?url=https%3A%2F%2Fgeoportal.lampungprov.go.id%2Fgis%2Frest%2Fservices%2FDinas_Kesehatan%2FCovid%2FFeatureServer&source=sd'\n",
    "driver.get(link)\n",
    "time.sleep(30)"
   ]
  },
  {
   "cell_type": "code",
   "execution_count": 2,
   "metadata": {},
   "outputs": [
    {
     "name": "stderr",
     "output_type": "stream",
     "text": [
      "<ipython-input-2-3eb99c211d80>:6: FutureWarning: pandas.io.json.json_normalize is deprecated, use pandas.json_normalize instead\n",
      "  a1 = json_normalize(ne['feature'])\n"
     ]
    }
   ],
   "source": [
    "import urllib3\n",
    "urllib3.disable_warnings()\n",
    "content = driver.page_source\n",
    "soup = BeautifulSoup(content, 'lxml').text\n",
    "ne = json.loads(str(soup))\n",
    "a1 = json_normalize(ne['feature'])\n",
    "df1 = pd.DataFrame(a1)"
   ]
  },
  {
   "cell_type": "code",
   "execution_count": 3,
   "metadata": {},
   "outputs": [
    {
     "data": {
      "text/html": [
       "<div>\n",
       "<style scoped>\n",
       "    .dataframe tbody tr th:only-of-type {\n",
       "        vertical-align: middle;\n",
       "    }\n",
       "\n",
       "    .dataframe tbody tr th {\n",
       "        vertical-align: top;\n",
       "    }\n",
       "\n",
       "    .dataframe thead th {\n",
       "        text-align: right;\n",
       "    }\n",
       "</style>\n",
       "<table border=\"1\" class=\"dataframe\">\n",
       "  <thead>\n",
       "    <tr style=\"text-align: right;\">\n",
       "      <th></th>\n",
       "      <th>geometry.rings</th>\n",
       "      <th>attributes.objectid</th>\n",
       "      <th>attributes.kode_unsur</th>\n",
       "      <th>attributes.kabupaten</th>\n",
       "      <th>attributes.sumber</th>\n",
       "      <th>attributes.kab_kota</th>\n",
       "      <th>attributes.sumber_dat</th>\n",
       "      <th>attributes.ks_baru</th>\n",
       "      <th>attributes.ks_lama</th>\n",
       "      <th>attributes.ks_total</th>\n",
       "      <th>...</th>\n",
       "      <th>attributes.kmk_baru</th>\n",
       "      <th>attributes.kmk_lama</th>\n",
       "      <th>attributes.kmk_total</th>\n",
       "      <th>attributes.st_area_sh</th>\n",
       "      <th>attributes.st_length_</th>\n",
       "      <th>attributes.ks_dalam_p</th>\n",
       "      <th>attributes.pp_skrinin</th>\n",
       "      <th>attributes.status</th>\n",
       "      <th>attributes.resiko</th>\n",
       "      <th>attributes.analisa</th>\n",
       "    </tr>\n",
       "  </thead>\n",
       "  <tbody>\n",
       "    <tr>\n",
       "      <th>0</th>\n",
       "      <td>[[[104.95119981691903, -4.527825737167234], [1...</td>\n",
       "      <td>4</td>\n",
       "      <td>40404</td>\n",
       "      <td>KABUPATEN LAMPUNG UTARA</td>\n",
       "      <td>Peta RBI Skala 1:25000</td>\n",
       "      <td>Lampung Utara</td>\n",
       "      <td>Dinas Kesehatan</td>\n",
       "      <td>0</td>\n",
       "      <td>147</td>\n",
       "      <td>0</td>\n",
       "      <td>...</td>\n",
       "      <td>0</td>\n",
       "      <td>1</td>\n",
       "      <td>176</td>\n",
       "      <td>0.206371</td>\n",
       "      <td>2.987748</td>\n",
       "      <td>0</td>\n",
       "      <td>69</td>\n",
       "      <td>Terdampak</td>\n",
       "      <td>Resiko Rendah</td>\n",
       "      <td>Kasus tetap</td>\n",
       "    </tr>\n",
       "  </tbody>\n",
       "</table>\n",
       "<p>1 rows × 37 columns</p>\n",
       "</div>"
      ],
      "text/plain": [
       "                                      geometry.rings  attributes.objectid  \\\n",
       "0  [[[104.95119981691903, -4.527825737167234], [1...                    4   \n",
       "\n",
       "  attributes.kode_unsur     attributes.kabupaten       attributes.sumber  \\\n",
       "0                 40404  KABUPATEN LAMPUNG UTARA  Peta RBI Skala 1:25000   \n",
       "\n",
       "  attributes.kab_kota attributes.sumber_dat  attributes.ks_baru  \\\n",
       "0       Lampung Utara       Dinas Kesehatan                   0   \n",
       "\n",
       "   attributes.ks_lama  attributes.ks_total  ...  attributes.kmk_baru  \\\n",
       "0                 147                    0  ...                    0   \n",
       "\n",
       "   attributes.kmk_lama  attributes.kmk_total  attributes.st_area_sh  \\\n",
       "0                    1                   176               0.206371   \n",
       "\n",
       "   attributes.st_length_  attributes.ks_dalam_p  attributes.pp_skrinin  \\\n",
       "0               2.987748                      0                     69   \n",
       "\n",
       "   attributes.status  attributes.resiko  attributes.analisa  \n",
       "0          Terdampak      Resiko Rendah         Kasus tetap  \n",
       "\n",
       "[1 rows x 37 columns]"
      ]
     },
     "execution_count": 3,
     "metadata": {},
     "output_type": "execute_result"
    }
   ],
   "source": [
    "df1"
   ]
  },
  {
   "cell_type": "code",
   "execution_count": 4,
   "metadata": {},
   "outputs": [],
   "source": [
    "df1 = df1.rename(columns={\n",
    "    'attributes.kabupaten':'kabkot',\n",
    "    'attributes.ks_total':'total_suspek',\n",
    "    'attributes.kp_total':'total_probable',\n",
    "    'attributes.ke_total':'total_odp',\n",
    "    'attributes.ke_dalam_p':'odp_dipantau',\n",
    "    'attributes.kk_total':'total_positif',\n",
    "    'attributes.kmk_total':'positif_meninggal',\n",
    "    'attributes.selesai_is':'positif_sembuh',\n",
    "    })\n",
    "df1[[\"total_suspek\", \"total_probable\"]] = df1[[\"total_suspek\", \"total_probable\"]].apply(pd.to_numeric)\n",
    "df1[\"total_pdp\"]=df1.apply(lambda x: x['total_suspek'] + x['total_probable'], axis=1)\n",
    "df=df1[['kabkot','total_odp','odp_dipantau','total_pdp','total_positif','positif_meninggal','positif_sembuh']]"
   ]
  },
  {
   "cell_type": "code",
   "execution_count": 5,
   "metadata": {},
   "outputs": [
    {
     "data": {
      "text/html": [
       "<div>\n",
       "<style scoped>\n",
       "    .dataframe tbody tr th:only-of-type {\n",
       "        vertical-align: middle;\n",
       "    }\n",
       "\n",
       "    .dataframe tbody tr th {\n",
       "        vertical-align: top;\n",
       "    }\n",
       "\n",
       "    .dataframe thead th {\n",
       "        text-align: right;\n",
       "    }\n",
       "</style>\n",
       "<table border=\"1\" class=\"dataframe\">\n",
       "  <thead>\n",
       "    <tr style=\"text-align: right;\">\n",
       "      <th></th>\n",
       "      <th>kabkot</th>\n",
       "      <th>total_odp</th>\n",
       "      <th>odp_dipantau</th>\n",
       "      <th>total_pdp</th>\n",
       "      <th>total_positif</th>\n",
       "      <th>positif_meninggal</th>\n",
       "      <th>positif_sembuh</th>\n",
       "    </tr>\n",
       "  </thead>\n",
       "  <tbody>\n",
       "    <tr>\n",
       "      <th>0</th>\n",
       "      <td>KABUPATEN LAMPUNG UTARA</td>\n",
       "      <td>28</td>\n",
       "      <td>196</td>\n",
       "      <td>13</td>\n",
       "      <td>3951</td>\n",
       "      <td>176</td>\n",
       "      <td>3528</td>\n",
       "    </tr>\n",
       "  </tbody>\n",
       "</table>\n",
       "</div>"
      ],
      "text/plain": [
       "                    kabkot  total_odp  odp_dipantau  total_pdp  total_positif  \\\n",
       "0  KABUPATEN LAMPUNG UTARA         28           196         13           3951   \n",
       "\n",
       "   positif_meninggal  positif_sembuh  \n",
       "0                176            3528  "
      ]
     },
     "execution_count": 5,
     "metadata": {},
     "output_type": "execute_result"
    }
   ],
   "source": [
    "df"
   ]
  },
  {
   "cell_type": "code",
   "execution_count": 6,
   "metadata": {},
   "outputs": [],
   "source": [
    "driver.get(url)\n",
    "time.sleep(20)\n",
    "cont = driver.page_source\n",
    "soup1 = BeautifulSoup(cont, 'lxml')\n",
    "all=soup1.findAll('body')"
   ]
  },
  {
   "cell_type": "code",
   "execution_count": 7,
   "metadata": {},
   "outputs": [
    {
     "data": {
      "text/plain": [
       "[['DASHBOARD', 'PEMANTAUAN', 'COVID-19', 'PROVINSI', 'LAMPUNG'],\n",
       " ['diupdate',\n",
       "  'oleh',\n",
       "  ':',\n",
       "  'DINAS',\n",
       "  'KESEHATAN',\n",
       "  'PROVINSI',\n",
       "  'LAMPUNG',\n",
       "  'tanggal',\n",
       "  '17'],\n",
       " [],\n",
       " ['Desember', '2021']]"
      ]
     },
     "execution_count": 7,
     "metadata": {},
     "output_type": "execute_result"
    }
   ],
   "source": [
    "All=[]\n",
    "data=[]\n",
    "for i in range(len(all)) :\n",
    "    All.append(all[i].findAll('b'))\n",
    "    for j in range(len(All[i])):\n",
    "        data.append(All[i][j].get_text(strip=True).split())\n",
    "data"
   ]
  },
  {
   "cell_type": "code",
   "execution_count": 8,
   "metadata": {},
   "outputs": [
    {
     "data": {
      "text/plain": [
       "'2021-12-17'"
      ]
     },
     "execution_count": 8,
     "metadata": {},
     "output_type": "execute_result"
    }
   ],
   "source": [
    "tanggal=data[1][8]\n",
    "bulan = ['januari', 'februari', 'maret', 'april', 'mei', 'juni','juli','agustus', 'september', 'oktober','november','desember']\n",
    "bln = bulan.index(data[3][0].lower())+1\n",
    "date_update =data[3][1]+'-'+str(bln)+'-'+tanggal\n",
    "date_update=dt.strptime(date_update,'%Y-%m-%d').strftime('%Y-%m-%d')\n",
    "date_update"
   ]
  },
  {
   "cell_type": "code",
   "execution_count": 9,
   "metadata": {},
   "outputs": [
    {
     "data": {
      "text/html": [
       "<div>\n",
       "<style scoped>\n",
       "    .dataframe tbody tr th:only-of-type {\n",
       "        vertical-align: middle;\n",
       "    }\n",
       "\n",
       "    .dataframe tbody tr th {\n",
       "        vertical-align: top;\n",
       "    }\n",
       "\n",
       "    .dataframe thead th {\n",
       "        text-align: right;\n",
       "    }\n",
       "</style>\n",
       "<table border=\"1\" class=\"dataframe\">\n",
       "  <thead>\n",
       "    <tr style=\"text-align: right;\">\n",
       "      <th></th>\n",
       "      <th>scrape_date</th>\n",
       "      <th>date_update</th>\n",
       "      <th>provinsi</th>\n",
       "      <th>kabkot</th>\n",
       "      <th>total_odp</th>\n",
       "      <th>total_pdp</th>\n",
       "      <th>pdp_sembuh</th>\n",
       "      <th>pdp_dipantau</th>\n",
       "      <th>odp_sembuh</th>\n",
       "      <th>odp_dipantau</th>\n",
       "      <th>odp_meninggal</th>\n",
       "      <th>total_positif</th>\n",
       "      <th>positif_sembuh</th>\n",
       "      <th>positif_meninggal</th>\n",
       "      <th>source_link</th>\n",
       "      <th>user_pic</th>\n",
       "    </tr>\n",
       "  </thead>\n",
       "  <tbody>\n",
       "    <tr>\n",
       "      <th>0</th>\n",
       "      <td>2021-12-19</td>\n",
       "      <td>2021-12-17</td>\n",
       "      <td>LAMPUNG</td>\n",
       "      <td>KABUPATEN LAMPUNG UTARA</td>\n",
       "      <td>28</td>\n",
       "      <td>13</td>\n",
       "      <td>0.0</td>\n",
       "      <td>0.0</td>\n",
       "      <td>0.0</td>\n",
       "      <td>196</td>\n",
       "      <td>0.0</td>\n",
       "      <td>3951</td>\n",
       "      <td>3528</td>\n",
       "      <td>176</td>\n",
       "      <td>https://geoportal.lampungprov.go.id/gis/home/w...</td>\n",
       "      <td>Tubagus Ibrohim</td>\n",
       "    </tr>\n",
       "  </tbody>\n",
       "</table>\n",
       "</div>"
      ],
      "text/plain": [
       "  scrape_date date_update provinsi                   kabkot  total_odp  \\\n",
       "0  2021-12-19  2021-12-17  LAMPUNG  KABUPATEN LAMPUNG UTARA         28   \n",
       "\n",
       "   total_pdp  pdp_sembuh  pdp_dipantau  odp_sembuh  odp_dipantau  \\\n",
       "0         13         0.0           0.0         0.0           196   \n",
       "\n",
       "   odp_meninggal  total_positif  positif_sembuh  positif_meninggal  \\\n",
       "0            0.0           3951            3528                176   \n",
       "\n",
       "                                         source_link         user_pic  \n",
       "0  https://geoportal.lampungprov.go.id/gis/home/w...  Tubagus Ibrohim  "
      ]
     },
     "execution_count": 9,
     "metadata": {},
     "output_type": "execute_result"
    }
   ],
   "source": [
    "df = pd.DataFrame(df)\n",
    "df.loc[:, \"scrape_date\"]= date_now\n",
    "df.loc[:, \"date_update\"]=date_update\n",
    "df.loc[:,\"provinsi\"]=\"LAMPUNG\" \n",
    "df.loc[:,\"odp_sembuh\"]=0\n",
    "df.loc[:,\"odp_meninggal\"]=0\n",
    "df.loc[:, \"pdp_dipantau\"]=0\n",
    "df.loc[:, \"pdp_sembuh\"]=0\n",
    "df.loc[:,\"types\"]=\"kabkot\"\n",
    "df.loc[:,\"source_link\"]=prov_link\n",
    "df.loc[:,\"user_pic\"]=\"Tubagus Ibrohim\"\n",
    "df = df[['scrape_date','date_update','provinsi','kabkot','total_odp','total_pdp','pdp_sembuh','pdp_dipantau','odp_sembuh','odp_dipantau','odp_meninggal','total_positif','positif_sembuh','positif_meninggal','source_link','user_pic']]\n",
    "df.head()\n"
   ]
  },
  {
   "cell_type": "code",
   "execution_count": 8,
   "metadata": {},
   "outputs": [
    {
     "name": "stdout",
     "output_type": "stream",
     "text": [
      "Provinsi Lampung Done 2021-08-30\n"
     ]
    }
   ],
   "source": [
    "import mysql.connector\n",
    "from mysql.connector import errorcode\n",
    "from sqlalchemy import create_engine\n",
    "\n",
    "try:\n",
    "    mydb = mysql.connector.connect(host='db-blanja2',\n",
    "                                      port=3306,\n",
    "                                 user='covid_user',\n",
    "                                 passwd='5bb6593aa078',\n",
    "                                 database='covid')\n",
    "    cursor = mydb.cursor()\n",
    "    cols2 = \"`,`\".join([str(i) for i in df.columns.tolist()])\n",
    "    # Insert DataFrame records one by one. \n",
    "    for i,row in df.iterrows():\n",
    "        sql = \"INSERT INTO `covid19_data` (`\" +cols2 + \"`) VALUES (\" + \"%s,\"*(len(row)-1) + \"%s)\" \n",
    "        cursor.execute(sql, tuple(row)) \n",
    "        # the connection is not autocommitted by default, so we must commit to save our # changes \n",
    "        mydb.commit()\n",
    "\n",
    "except mysql.connector.Error as error:\n",
    "    print(\"Failed to insert into MySQL table {}\".format(error))\n",
    "\n",
    "finally:\n",
    "    if (mydb.is_connected()):\n",
    "        cursor.close()\n",
    "        mydb.close()\n",
    "        print(\"Provinsi Lampung Done \" +date_now)"
   ]
  },
  {
   "cell_type": "code",
   "execution_count": 9,
   "metadata": {},
   "outputs": [],
   "source": [
    "import pymysql.cursors\n",
    "import sqlalchemy\n",
    "\n",
    "engine = sqlalchemy.create_engine('mysql+pymysql://covid_user5bb6593aa078@db-blanja2:3306/covid')\n"
   ]
  },
  {
   "cell_type": "code",
   "execution_count": null,
   "metadata": {},
   "outputs": [],
   "source": []
  }
 ],
 "metadata": {
  "kernelspec": {
   "display_name": "Python 3",
   "language": "python",
   "name": "python3"
  },
  "language_info": {
   "codemirror_mode": {
    "name": "ipython",
    "version": 3
   },
   "file_extension": ".py",
   "mimetype": "text/x-python",
   "name": "python",
   "nbconvert_exporter": "python",
   "pygments_lexer": "ipython3",
   "version": "3.8.3"
  }
 },
 "nbformat": 4,
 "nbformat_minor": 4
}
